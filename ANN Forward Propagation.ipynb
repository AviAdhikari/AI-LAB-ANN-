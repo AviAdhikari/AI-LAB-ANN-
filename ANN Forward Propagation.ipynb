{
  "nbformat": 4,
  "nbformat_minor": 0,
  "metadata": {
    "colab": {
      "provenance": [],
      "authorship_tag": "ABX9TyMxhYo1kT0ogKuF9CTEj1lv",
      "include_colab_link": true
    },
    "kernelspec": {
      "name": "python3",
      "display_name": "Python 3"
    },
    "language_info": {
      "name": "python"
    }
  },
  "cells": [
    {
      "cell_type": "markdown",
      "metadata": {
        "id": "view-in-github",
        "colab_type": "text"
      },
      "source": [
        "<a href=\"https://colab.research.google.com/github/AviAdhikari/AI-LAB-ANN-/blob/main/ANN%20Forward%20Propagation.ipynb\" target=\"_parent\"><img src=\"https://colab.research.google.com/assets/colab-badge.svg\" alt=\"Open In Colab\"/></a>"
      ]
    },
    {
      "cell_type": "code",
      "execution_count": 6,
      "metadata": {
        "colab": {
          "base_uri": "https://localhost:8080/"
        },
        "id": "1ntFRWV7ZreI",
        "outputId": "b8e0fded-778e-49fc-ab9b-f0f5948b98c6"
      },
      "outputs": [
        {
          "output_type": "stream",
          "name": "stdout",
          "text": [
            "\n",
            "--- AND Gate ---\n",
            "Weights: [0.2 0.1] Bias: -0.20000000000000004\n",
            "Predictions: [0, 0, 0, 1]\n",
            "\n",
            "--- OR Gate ---\n",
            "Weights: [0.1 0.1] Bias: -0.1\n",
            "Predictions: [0, 1, 1, 1]\n",
            "\n",
            "--- XOR Gate (Will Fail) ---\n",
            "Weights: [-0.1  0. ] Bias: 0.0\n",
            "Predictions: [1, 1, 0, 0]\n"
          ]
        }
      ],
      "source": [
        "import numpy as np\n",
        "\n",
        "class Perceptron:\n",
        "    def __init__(self, learning_rate=0.1, epochs=100):\n",
        "        self.lr = learning_rate\n",
        "        self.epochs = epochs\n",
        "        self.weights = None\n",
        "        self.bias = None\n",
        "\n",
        "\n",
        "    def activation(self, z):\n",
        "        return 1 if z >= 0 \\\n",
        "            else 0  # Step function\n",
        "\n",
        "    def fit(self, X, y):\n",
        "        n_samples, n_features = X.shape\n",
        "        self.weights = np.zeros(n_features)\n",
        "        self.bias = 0\n",
        "\n",
        "        for _ in range(self.epochs):\n",
        "            for idx, x_i in enumerate(X):\n",
        "                linear_output = np.dot(x_i, self.weights) + self.bias\n",
        "                y_pred = self.activation(linear_output)\n",
        "                error = y[idx] - y_pred\n",
        "                self.weights += self.lr * error * x_i\n",
        "                self.bias += self.lr * error\n",
        "\n",
        "    def predict(self, X):\n",
        "        linear_output = np.dot(X, self.weights) + self.bias\n",
        "        return [self.activation(z) for z in linear_output]\n",
        "\n",
        "# Define the logic gates\n",
        "X = np.array([[0, 0], [0, 1], [1, 0], [1, 1]])\n",
        "y_and = np.array([0, 0, 0, 1])  # AND\n",
        "y_or = np.array([0, 1, 1, 1])   # OR\n",
        "y_xor = np.array([0, 1, 1, 0])   # XOR (not linearly separable)\n",
        "\n",
        "# Train and test AND gate\n",
        "print(\"\\n--- AND Gate ---\")\n",
        "perceptron_and = Perceptron()\n",
        "perceptron_and.fit(X, y_and)\n",
        "print(\"Weights:\", perceptron_and.weights, \"Bias:\", perceptron_and.bias)\n",
        "print(\"Predictions:\", perceptron_and.predict(X))\n",
        "\n",
        "# Train and test OR gate\n",
        "print(\"\\n--- OR Gate ---\")\n",
        "perceptron_or = Perceptron()\n",
        "perceptron_or.fit(X, y_or)\n",
        "print(\"Weights:\", perceptron_or.weights, \"Bias:\", perceptron_or.bias)\n",
        "print(\"Predictions:\", perceptron_or.predict(X))\n",
        "\n",
        "# Try XOR (will fail)\n",
        "print(\"\\n--- XOR Gate (Will Fail) ---\")\n",
        "perceptron_xor = Perceptron(epochs=1000)  # Even with more epochs, it fails\n",
        "perceptron_xor.fit(X, y_xor)\n",
        "print(\"Weights:\", perceptron_xor.weights, \"Bias:\", perceptron_xor.bias)\n",
        "print(\"Predictions:\", perceptron_xor.predict(X))"
      ]
    }
  ]
}